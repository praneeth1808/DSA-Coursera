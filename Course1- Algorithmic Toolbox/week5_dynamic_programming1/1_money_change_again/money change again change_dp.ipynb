{
 "cells": [
  {
   "cell_type": "markdown",
   "metadata": {},
   "source": [
    "apply dynamic programming for solving the Money Change Problem for denominations 1, 3, and 4.\n"
   ]
  },
  {
   "cell_type": "code",
   "execution_count": 3,
   "metadata": {},
   "outputs": [
    {
     "name": "stdout",
     "output_type": "stream",
     "text": [
      "6\n",
      "2 \n",
      "\n",
      "2\n",
      "2 \n",
      "\n",
      "34\n",
      "9 \n",
      "\n"
     ]
    }
   ],
   "source": [
    "# Uses python3\n",
    "import sys\n",
    "\n",
    "def get_change(m):\n",
    "    denominations = [1, 3, 4]\n",
    "    dp_result = [0] + [-1]*m\n",
    "    for i in range(1, m+1):\n",
    "        for j in denominations:\n",
    "            if i>=j:\n",
    "                coins = dp_result[i-j]+1\n",
    "                if (coins < dp_result[i]) or (dp_result[i]==-1):\n",
    "                    dp_result[i] = coins\n",
    "    return dp_result[m]\n",
    "\n",
    "for i in range(3):\n",
    "    if __name__ == '__main__':\n",
    "    #     m = int(sys.stdin.read())\n",
    "        m = int(input().strip())\n",
    "        print(get_change(m),'\\n')\n"
   ]
  },
  {
   "cell_type": "code",
   "execution_count": null,
   "metadata": {},
   "outputs": [],
   "source": []
  }
 ],
 "metadata": {
  "kernelspec": {
   "display_name": "Python 3",
   "language": "python",
   "name": "python3"
  },
  "language_info": {
   "codemirror_mode": {
    "name": "ipython",
    "version": 3
   },
   "file_extension": ".py",
   "mimetype": "text/x-python",
   "name": "python",
   "nbconvert_exporter": "python",
   "pygments_lexer": "ipython3",
   "version": "3.6.5"
  }
 },
 "nbformat": 4,
 "nbformat_minor": 2
}
