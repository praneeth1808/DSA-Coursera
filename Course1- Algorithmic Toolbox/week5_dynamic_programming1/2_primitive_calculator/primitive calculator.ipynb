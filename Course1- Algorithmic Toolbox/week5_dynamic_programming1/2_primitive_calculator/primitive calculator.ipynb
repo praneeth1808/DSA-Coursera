{
 "cells": [
  {
   "cell_type": "markdown",
   "metadata": {},
   "source": [
    "a primitive calculator that can perform the following three operations with the current number x: multiply x by 2, multiply x by 3, or add 1 to x. Your goal is given a positive integer n, find the minimum number of operations needed to obtain the number n starting from the number 1.\n"
   ]
  },
  {
   "cell_type": "markdown",
   "metadata": {},
   "source": [
    "**output format** In the first line, output the minimum number k of operations needed to get n from 1. In the second line output a sequence of intermediate numbers."
   ]
  },
  {
   "cell_type": "code",
   "execution_count": null,
   "metadata": {},
   "outputs": [],
   "source": [
    "# Uses python3\n",
    "import sys\n",
    "\n",
    "def optimal_sequence(n):\n",
    "    sequence = []\n",
    "    while n >= 1:\n",
    "        sequence.append(n)\n",
    "        if n % 3 == 0:\n",
    "            n = n // 3\n",
    "        elif n % 2 == 0:\n",
    "            n = n // 2\n",
    "        else:\n",
    "            n = n - 1\n",
    "    return reversed(sequence)\n",
    "\n",
    "input = sys.stdin.read()\n",
    "n = int(input)\n",
    "sequence = list(optimal_sequence(n))\n",
    "print(len(sequence) - 1)\n",
    "for x in sequence:\n",
    "    print(x, end=' ')\n"
   ]
  },
  {
   "cell_type": "markdown",
   "metadata": {},
   "source": [
    "there are mutliple paths to reach the solution."
   ]
  },
  {
   "cell_type": "code",
   "execution_count": 7,
   "metadata": {},
   "outputs": [
    {
     "name": "stdout",
     "output_type": "stream",
     "text": [
      "\n",
      "1\n",
      "0\n",
      "1\n",
      "\n",
      "5\n",
      "3\n",
      "1 3 4 5\n",
      "\n",
      "96234\n",
      "14\n",
      "1 3 9 10 11 33 99 297 891 2673 8019 16038 16039 48117 96234\n"
     ]
    }
   ],
   "source": [
    "def dp_solution(n):\n",
    "    operations_count = [0] * (n + 1)\n",
    "\n",
    "    operations_count[1] = 1\n",
    "    for i in range(2, n + 1):\n",
    "        count_index = [i - 1] #the worst case where i have to add 1 all the time, so index of prev number\n",
    "        if i % 2 == 0:\n",
    "            count_index.append(i // 2)   # steps to i//2 times +1, so index of i//2\n",
    "        if i % 3 == 0:\n",
    "            count_index.append(i // 3) # steps to i//3 + 1, so index of i//3\n",
    "\n",
    "        operations_count[i] = min([operations_count[x] for x in count_index]) +1 # previous values are already counted. \n",
    "                                                                             #so see which one is min and add 1 to it\n",
    "\n",
    "    current_value = n\n",
    "    intermed_numbers = [current_value]\n",
    "    while current_value != 1: #until the value we are looking at is 1\n",
    "        option_list = [current_value - 1] #possibilty of coming from prev number\n",
    "        if current_value % 2 == 0:    #possibility of arriving from current_value//2\n",
    "            option_list.append(current_value // 2)\n",
    "        if current_value % 3 == 0:     #possibility of arriving from current_value//3\n",
    "            option_list.append(current_value // 3)\n",
    "\n",
    "        current_value = min([(c, operations_count[c]) for c in option_list],key=lambda x: x[1])[0] #choose the one with min \n",
    "                                                                        #operations as everything reaches to n with 1 step. \n",
    "        intermed_numbers.append(current_value)\n",
    "    return reversed(intermed_numbers)\n",
    "\n",
    "for i in range(3):\n",
    "    if __name__ == '__main__':\n",
    "    #     input = sys.stdin.read()\n",
    "        n = int(input('\\n'))\n",
    "        sequence = list(dp_solution(n))\n",
    "        print(len(sequence) - 1)\n",
    "#         for x in sequence:\n",
    "        print(' '.join(map(str, sequence)))"
   ]
  },
  {
   "cell_type": "code",
   "execution_count": null,
   "metadata": {},
   "outputs": [],
   "source": []
  }
 ],
 "metadata": {
  "kernelspec": {
   "display_name": "Python 3",
   "language": "python",
   "name": "python3"
  },
  "language_info": {
   "codemirror_mode": {
    "name": "ipython",
    "version": 3
   },
   "file_extension": ".py",
   "mimetype": "text/x-python",
   "name": "python",
   "nbconvert_exporter": "python",
   "pygments_lexer": "ipython3",
   "version": "3.6.5"
  }
 },
 "nbformat": 4,
 "nbformat_minor": 2
}
