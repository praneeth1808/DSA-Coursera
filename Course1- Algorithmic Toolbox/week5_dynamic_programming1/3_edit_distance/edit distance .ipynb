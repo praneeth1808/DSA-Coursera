{
 "cells": [
  {
   "cell_type": "markdown",
   "metadata": {},
   "source": [
    "The edit distance between two strings is the minimum number of operations (insertions, deletions, and substitutions of symbols) to transform one string into another"
   ]
  },
  {
   "cell_type": "code",
   "execution_count": 3,
   "metadata": {},
   "outputs": [],
   "source": [
    "import numpy"
   ]
  },
  {
   "cell_type": "code",
   "execution_count": 7,
   "metadata": {},
   "outputs": [
    {
     "name": "stdout",
     "output_type": "stream",
     "text": [
      "ab\n",
      "ab\n",
      "0\n",
      "short\n",
      "ports\n",
      "3\n",
      "editing\n",
      "distance\n",
      "5\n"
     ]
    }
   ],
   "source": [
    "import numpy\n",
    "def edit_distance(s1, s2):\n",
    "    len_1 = len(s1)\n",
    "    len_2 = len(s2)\n",
    "\n",
    "    dpresult = numpy.zeros((len_1+1 , len_2+1)) # a martix\n",
    "    for i in range(len_2+1):  # edit distance for a null string and another string is just length of string\n",
    "        dpresult[0][i] = i\n",
    "\n",
    "    for i in range(len_1+1):\n",
    "        dpresult[i][0] = i\n",
    "\n",
    "    # Filling remaining matrix\n",
    "    for i in range(1, len_1+1):\n",
    "        for j in range(1, len_2+1):\n",
    "            insertion = dpresult[i][j-1] + 1\n",
    "            deletion  = dpresult[i-1][j] + 1\n",
    "            mismatch  = dpresult[i-1][j-1] + 1\n",
    "            match     = dpresult[i-1][j-1]\n",
    "            if s1[i-1] == s2[j-1]: #when it matches\n",
    "                dpresult[i][j] = min(insertion, deletion, match)\n",
    "            if s1[i-1] != s2[j-1]: #when it doesn't match\n",
    "                dpresult[i][j] = min(insertion, deletion, mismatch)\n",
    "    \n",
    "    return (int(dpresult[len_1][len_2]), dpresult)\n",
    "\n",
    "for i in range(3):\n",
    "    if __name__ == \"__main__\":\n",
    "        print(edit_distance(input().strip(),input().strip())[0])"
   ]
  },
  {
   "cell_type": "code",
   "execution_count": 9,
   "metadata": {},
   "outputs": [
    {
     "name": "stdout",
     "output_type": "stream",
     "text": [
      "ab\n",
      "ab\n",
      "0\n",
      "Optimal alignment:\n",
      "|a| |b|\n",
      "|a| |b|\n",
      "short\n",
      "ports\n",
      "3\n",
      "Optimal alignment:\n",
      "|s| |h| |o| |r| |t| |-|\n",
      "|p| |-| |o| |r| |t| |s|\n",
      "editing\n",
      "distance\n",
      "5\n",
      "Optimal alignment:\n",
      "|e| |d| |i| |-| |t| |i| |n| |g| |-|\n",
      "|-| |d| |i| |s| |t| |a| |n| |c| |e|\n"
     ]
    }
   ],
   "source": [
    "def OptimalAlignment(Matrix, s1, s2, top, bottom, i, j):\n",
    "    \"\"\"(2D-array, str, str, str, str, int, int) -> (str, str) \"\"\"\n",
    "\n",
    "    if i == 0 and j == 0:\n",
    "        return (' '.join(top[::-1]), ' '.join(bottom[::-1]))\n",
    "\n",
    "    if i>0 and Matrix[i][j] == Matrix[i-1][j] + 1:\n",
    "        top.append(f'|{s1[i-1]}|')\n",
    "        bottom.append('|-|')\n",
    "        return OptimalAlignment(Matrix, s1, s2, top, bottom, i-1, j)\n",
    "\n",
    "    elif j>0 and Matrix[i][j] == Matrix[i][j-1] + 1:\n",
    "        bottom.append(f'|{s2[j-1]}|')\n",
    "        top.append('|-|')\n",
    "        return OptimalAlignment(Matrix, s1, s2, top, bottom, i, j-1)\n",
    "\n",
    "    else:\n",
    "        top.append(f'|{s1[i-1]}|')\n",
    "        bottom.append(f'|{s2[j-1]}|')\n",
    "        return OptimalAlignment(Matrix, s1, s2, top, bottom, i-1, j-1)\n",
    "for i in range(3):\n",
    "    if __name__ == \"__main__\":\n",
    "        s1,s2 = input().strip(),input().strip()\n",
    "        ans, matrix =  (edit_distance(s1,s2))\n",
    "        first,second = OptimalAlignment(matrix,s1,s2,[],[], len(s1),len(s2))\n",
    "        print(ans)\n",
    "        print(f\"Optimal alignment:\\n{first}\\n{second}\")"
   ]
  },
  {
   "cell_type": "code",
   "execution_count": null,
   "metadata": {},
   "outputs": [],
   "source": []
  }
 ],
 "metadata": {
  "kernelspec": {
   "display_name": "Python 3",
   "language": "python",
   "name": "python3"
  },
  "language_info": {
   "codemirror_mode": {
    "name": "ipython",
    "version": 3
   },
   "file_extension": ".py",
   "mimetype": "text/x-python",
   "name": "python",
   "nbconvert_exporter": "python",
   "pygments_lexer": "ipython3",
   "version": "3.6.5"
  }
 },
 "nbformat": 4,
 "nbformat_minor": 2
}
