{
 "cells": [
  {
   "cell_type": "code",
   "execution_count": null,
   "metadata": {},
   "outputs": [],
   "source": [
    "#Uses python3\n",
    "\n",
    "import sys\n",
    "\n",
    "def lcs2(a, b):\n",
    "    #write your code here\n",
    "    return min(len(a), len(b))\n",
    "\n",
    "if __name__ == '__main__':\n",
    "    input = sys.stdin.read()\n",
    "    data = list(map(int, input.split()))\n",
    "\n",
    "    n = data[0]\n",
    "    data = data[1:]\n",
    "    a = data[:n]\n",
    "\n",
    "    data = data[n:]\n",
    "    m = data[0]\n",
    "    data = data[1:]\n",
    "    b = data[:m]\n",
    "\n",
    "    print(lcs2(a, b))\n"
   ]
  },
  {
   "cell_type": "code",
   "execution_count": 11,
   "metadata": {
    "scrolled": true
   },
   "outputs": [
    {
     "name": "stdout",
     "output_type": "stream",
     "text": [
      "3 2 7 5 2 2 5 \n",
      "2\n",
      "1 7 4 1 2 3 4 \n",
      "0\n",
      "4 2 7 8 3 4 5 2 8 7 \n",
      "2\n"
     ]
    }
   ],
   "source": [
    "def lcs2(a,b):\n",
    "    import numpy as np\n",
    "    dp = np.zeros((len(a)+1, len(b)+1)) #keep a matrix of size len(a)+1 and len(b)+1 first row and first column has 0s only as there is no matching at all. we use it for next rows and columns\n",
    "    \n",
    "    for i,number1 in enumerate(a):   #enumerate for index and values of both arrays, note that I am starting from index 0 but adding it as dp[i+1]dp[j+1]\n",
    "        for j,number2 in enumerate(b):\n",
    "            if number1 == number2:   # if numbers match, common sequence length increases by 1\n",
    "                dp[i+1][j+1] = dp[i][j]+1\n",
    "            else:  #else just take the max of the square just above or just left\n",
    "                dp[i+1][j+1] = max(dp[i+1][j], dp[i][j+1])\n",
    "    return (int(dp[len(a)][len(b)]),dp)\n",
    "\n",
    "for i in range(3):\n",
    "    if __name__ == '__main__':\n",
    "#         input = sys.stdin.read()\n",
    "        data = list(map(int, input().split()))\n",
    "\n",
    "        n = data[0]\n",
    "        data = data[1:]\n",
    "        a = data[:n]\n",
    "\n",
    "        data = data[n:]\n",
    "        m = data[0]\n",
    "        data = data[1:]\n",
    "        b = data[:m]\n",
    "\n",
    "        print(lcs2(a, b)[0])\n"
   ]
  },
  {
   "cell_type": "code",
   "execution_count": 12,
   "metadata": {},
   "outputs": [
    {
     "name": "stdout",
     "output_type": "stream",
     "text": [
      "4 2 7 8 3 4 5 2 8 7 \n",
      "2\n",
      "2 8\n",
      "1 7 4 1 2 3 4 \n",
      "0\n",
      "None\n",
      "3 2 7 5 2 2 5\n",
      "2\n",
      "2 5\n"
     ]
    }
   ],
   "source": [
    "'''findin what the common subsequence is'''\n",
    "def commonsubseq(Matrix, s1, s2, i, j, seq):\n",
    "   \n",
    "    if i == 0 or j == 0:\n",
    "        if seq == []: return None\n",
    "#         return ''.join(seq[::-1]) #if s1, s2 are strings\n",
    "        return ' '.join([str(i) for i in seq][::-1])\n",
    "\n",
    "    if s1[i-1] == s2[j-1]:\n",
    "        seq.append(s1[i-1])\n",
    "        return commonsubseq(Matrix, s1, s2, i-1, j-1, seq)\n",
    "    \n",
    "    if Matrix[i-1][j] > Matrix[i][j-1]: \n",
    "        return commonsubseq(Matrix, s1, s2, i-1, j, seq)\n",
    "    else: \n",
    "        return commonsubseq(Matrix, s1, s2, i, j-1, seq)\n",
    "    \n",
    "for i in range(3):\n",
    "    if __name__ == '__main__':\n",
    "#         input = sys.stdin.read()\n",
    "        data = list(map(int, input().split()))\n",
    "\n",
    "        n = data[0]\n",
    "        data = data[1:]\n",
    "        a = data[:n]\n",
    "\n",
    "        data = data[n:]\n",
    "        m = data[0]\n",
    "        data = data[1:]\n",
    "        b = data[:m]\n",
    "\n",
    "        print(lcs2(a, b)[0])\n",
    "        print(commonsubseq(lcs2(a, b)[1],a,b,n,m,[]))\n"
   ]
  },
  {
   "cell_type": "code",
   "execution_count": null,
   "metadata": {},
   "outputs": [],
   "source": []
  }
 ],
 "metadata": {
  "kernelspec": {
   "display_name": "Python 3",
   "language": "python",
   "name": "python3"
  },
  "language_info": {
   "codemirror_mode": {
    "name": "ipython",
    "version": 3
   },
   "file_extension": ".py",
   "mimetype": "text/x-python",
   "name": "python",
   "nbconvert_exporter": "python",
   "pygments_lexer": "ipython3",
   "version": "3.6.5"
  }
 },
 "nbformat": 4,
 "nbformat_minor": 2
}
