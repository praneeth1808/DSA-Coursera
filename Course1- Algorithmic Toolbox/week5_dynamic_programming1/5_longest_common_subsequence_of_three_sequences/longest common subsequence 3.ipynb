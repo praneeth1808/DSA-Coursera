{
 "cells": [
  {
   "cell_type": "markdown",
   "metadata": {},
   "source": [
    "* just use lcs2 twice but have to keep track of the subsequence from the first. that wouldn't work always as there are always many common subsequences with highest length. not unique.\n",
    "\n",
    "* or just extend dp solution in 3dimensions, this should work as there are no loopholes"
   ]
  },
  {
   "cell_type": "code",
   "execution_count": 37,
   "metadata": {},
   "outputs": [
    {
     "name": "stdout",
     "output_type": "stream",
     "text": [
      "5 8 3 2 1 7 7 8 2 1 3 8 10 7 6 6 8 3 1 4 7 \n",
      "3\n",
      "3 1 2 3 3 2 1 3 3 1 3 5 \n",
      "2\n"
     ]
    }
   ],
   "source": [
    "def lcs3(a,b,c):\n",
    "    import numpy as np\n",
    "    dp = np.zeros((len(a)+1, len(b)+1, len(c)+1)) #keep a matrix of size len(a)+1 and len(b)+1 first row and first column has 0s only as there is no matching at all. we use it for next rows and columns\n",
    "    \n",
    "    for i,num1 in enumerate(a):   #enumerate for index and values of both arrays, note that I am starting from index 0 but adding it as dp[i+1]dp[j+1]\n",
    "        for j,num2 in enumerate(b):\n",
    "            for k,num3 in enumerate(c):\n",
    "                if num1 == num2 == num3:  # if numbers match, common sequence length increases by 1\n",
    "                    dp[i+1][j+1][k+1] = dp[i][j][k]+1\n",
    "#                     print(dp[i+1][j+1][k+1])\n",
    "                else:  #else just take the max of the square just above or just left\n",
    "                    dp[i+1][j+1][k+1] = max([dp[i+1][j+1][k],dp[i][j+1][k+1],dp[i+1][j][k+1]])\n",
    "#                     print('here',dp[i+1][j+1][k+1], ([dp[i+1][j][k],dp[i][j+1][k],dp[i][j][k+1]]))\n",
    "#     return int(dp[len(a)][len(b)][len(c)])\n",
    "    return (int(dp[-1][-1][-1]),dp)\n",
    "\n",
    "for i in range(2):\n",
    "    if __name__ == '__main__':\n",
    "#         input = sys.stdin.read()\n",
    "        data = list(map(int, input().split()))\n",
    "\n",
    "        an = data[0]\n",
    "        data = data[1:]\n",
    "        a = data[:an]\n",
    "        data = data[an:]\n",
    "        bn = data[0]\n",
    "        data = data[1:]\n",
    "        b = data[:bn]\n",
    "        data = data[bn:]\n",
    "        cn = data[0]\n",
    "        data = data[1:]\n",
    "        c = data[:cn]\n",
    "#         print(a,b,c)\n",
    "        print(lcs3(a, b, c)[0])\n"
   ]
  },
  {
   "cell_type": "markdown",
   "metadata": {},
   "source": [
    "similarly we can extend commonsubseq from 2 strings to 3 strings"
   ]
  },
  {
   "cell_type": "code",
   "execution_count": 40,
   "metadata": {
    "scrolled": true
   },
   "outputs": [
    {
     "name": "stdout",
     "output_type": "stream",
     "text": [
      "3 1 2 3 3 2 1 3 3 1 3 5\n",
      "2\n",
      "1 3\n",
      "5 8 3 2 1 7 7 8 2 1 3 8 10 7 6 6 8 3 1 4 7 \n",
      "3\n",
      "8 3 7\n"
     ]
    }
   ],
   "source": [
    "def commonsubseq(Matrix, s1, s2, s3, i, j, k, seq):\n",
    "    \n",
    "    if i == 0 or j == 0 or k == 0:\n",
    "        if seq == []: return None\n",
    "#         return ''.join(seq[::-1]) # If s1, s2, s3 are strings \n",
    "        return ' '.join([str(i) for i in seq][::-1])\n",
    "\n",
    "    if s1[i-1] == s2[j-1] == s3[k-1]:\n",
    "        seq.append(s1[i-1])\n",
    "        return commonsubseq(Matrix, s1, s2, s3, i-1, j-1, k-1, seq)\n",
    "    \n",
    "    if Matrix[i-1][j][k] > Matrix[i][j-1][k]:\n",
    "        if Matrix[i-1][j][k] > Matrix[i][j][k-1]:\n",
    "            return commonsubseq(Matrix, s1, s2, s3, i-1, j, k, seq)\n",
    "        else:\n",
    "            return commonsubseq(Matrix, s1, s2, s3, i, j, k-1, seq)\n",
    "    else:\n",
    "        if Matrix[i][j-1][k]> Matrix[i][j][k-1]:\n",
    "            return commonsubseq(Matrix, s1, s2, s3, i, j-1, k, seq)\n",
    "        else:\n",
    "            return commonsubseq(Matrix, s1, s2, s3, i, j, k-1, seq)\n",
    "\n",
    "for i in range(2):\n",
    "    if __name__ == '__main__':\n",
    "#         input = sys.stdin.read()\n",
    "        data = list(map(int, input().split()))\n",
    "\n",
    "        an = data[0]\n",
    "        data = data[1:]\n",
    "        a = data[:an]\n",
    "        data = data[an:]\n",
    "        bn = data[0]\n",
    "        data = data[1:]\n",
    "        b = data[:bn]\n",
    "        data = data[bn:]\n",
    "        cn = data[0]\n",
    "        data = data[1:]\n",
    "        c = data[:cn]\n",
    "#         print(a,b,c)\n",
    "        print(lcs3(a, b, c)[0])\n",
    "        print(commonsubseq(lcs3(a, b,c)[1],a,b,c,an,bn,cn,[]))"
   ]
  },
  {
   "cell_type": "code",
   "execution_count": null,
   "metadata": {},
   "outputs": [],
   "source": []
  }
 ],
 "metadata": {
  "kernelspec": {
   "display_name": "Python 3",
   "language": "python",
   "name": "python3"
  },
  "language_info": {
   "codemirror_mode": {
    "name": "ipython",
    "version": 3
   },
   "file_extension": ".py",
   "mimetype": "text/x-python",
   "name": "python",
   "nbconvert_exporter": "python",
   "pygments_lexer": "ipython3",
   "version": "3.6.5"
  }
 },
 "nbformat": 4,
 "nbformat_minor": 2
}
