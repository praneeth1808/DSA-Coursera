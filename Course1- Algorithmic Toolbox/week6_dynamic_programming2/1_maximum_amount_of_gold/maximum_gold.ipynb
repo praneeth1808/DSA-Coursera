{
  "nbformat": 4,
  "nbformat_minor": 0,
  "metadata": {
    "colab": {
      "name": "maximum gold.ipynb",
      "version": "0.3.2",
      "provenance": [],
      "collapsed_sections": []
    },
    "kernelspec": {
      "name": "python3",
      "display_name": "Python 3"
    }
  },
  "cells": [
    {
      "cell_type": "code",
      "metadata": {
        "id": "7Gu3OZ49xQT6",
        "colab_type": "code",
        "colab": {}
      },
      "source": [
        "import sys\n",
        "\n",
        "import numpy as np\n",
        "def optimal_weight(W, w):\n",
        "    # write your code here\n",
        "#     result = 0\n",
        "#     for x in w:\n",
        "#         if result + x <= W:\n",
        "#             result = result + x\n",
        "#     return result\n",
        "    \n",
        "    weights = [0]\n",
        "    for item in w:\n",
        "        if item <= W:\n",
        "            weights.append(item)\n",
        "\n",
        "    item_length = len(weights)\n",
        "    capacity = W + 1\n",
        "\n",
        "    values = [[0 for _ in range(item_length)] for _ in range(capacity)] #here values[i][j] represents the maximum gold I have\n",
        "                                        #filled till capacity i with first j items\n",
        "\n",
        "    for j in range(1, item_length):\n",
        "        for i in range(1, capacity):\n",
        "            previous = values[i][j - 1]\n",
        "            current = weights[j] + values[i - weights[j]][j - 1]\n",
        "            if current > i: #it doesn't fit in the sack\n",
        "                values[i][j] = previous\n",
        "            else: #it does fit in the sack. so take max\n",
        "                values[i][j] = max(previous, current)\n",
        "\n",
        "    return values[-1][-1]\n",
        "\n",
        "\n",
        "if __name__ == '__main__':\n",
        "#     input = sys.stdin.read()\n",
        "    W, n, *w = list(map(int, input().strip().split()))\n",
        "    print(optimal_weight(W, w))"
      ],
      "execution_count": 0,
      "outputs": []
    }
  ]
}