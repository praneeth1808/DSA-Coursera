{
  "nbformat": 4,
  "nbformat_minor": 0,
  "metadata": {
    "kernelspec": {
      "display_name": "Python 3",
      "language": "python",
      "name": "python3"
    },
    "language_info": {
      "codemirror_mode": {
        "name": "ipython",
        "version": 3
      },
      "file_extension": ".py",
      "mimetype": "text/x-python",
      "name": "python",
      "nbconvert_exporter": "python",
      "pygments_lexer": "ipython3",
      "version": "3.6.5"
    },
    "colab": {
      "name": "Partitioning Souvenirs partition3.ipynb",
      "version": "0.3.2",
      "provenance": []
    }
  },
  "cells": [
    {
      "cell_type": "markdown",
      "metadata": {
        "id": "j8frsJQE3Ipm",
        "colab_type": "text"
      },
      "source": [
        "You and two of your friends have just returned back home after visiting various countries. Now you would like to evenly split all the souvenirs that all three of you bought.\n"
      ]
    },
    {
      "cell_type": "markdown",
      "metadata": {
        "id": "LqwNFYme3Ipp",
        "colab_type": "text"
      },
      "source": [
        " Output 1, if it possible to partition v1,v2,...,vn into three subsets with equal sums, and 0 otherwise.\n"
      ]
    },
    {
      "cell_type": "markdown",
      "metadata": {
        "id": "6C5YQJ7t3Ipr",
        "colab_type": "text"
      },
      "source": [
        "obvioulsy, there can be multiple solutions for single set, if exists"
      ]
    },
    {
      "cell_type": "markdown",
      "metadata": {
        "id": "Osi5Zpy33Ips",
        "colab_type": "text"
      },
      "source": [
        "one way and the first one that comes to my mid if this was not under dp assignment is **recursively finding sums considering if a particular element is included or not in the subset sum**\n",
        "* include item in 1st subset and recur for the rest\n",
        "* or in 2nd subset and recur\n",
        "* else in 3rd and recur\n",
        "\n",
        "base is no items remaining in the set we took. so we can probably delete or mark as visited after processing an element  \n",
        "and return tree only if all 3 subsets have same sum  \n",
        "This will take 3^n time"
      ]
    },
    {
      "cell_type": "markdown",
      "metadata": {
        "id": "0D0TXKHd3MO4",
        "colab_type": "text"
      },
      "source": [
        "The other way is to use dynamic programming, you can find the method explained here on [wikipedia](https://en.wikipedia.org/wiki/Partition_problem) where they have explained it for partitioning into two groups, where as we can just extend it to three groups.\n",
        "\n",
        "we create a table of size(sum/3+1,len(array of numbers)+1)\n",
        "\n",
        "table(i, j) be True if a subset of { x1, ..., xj } sums to i and False otherwise.\n",
        "\n",
        "table(i, j) is True if either table(i, j − 1) is True or if table(i − xj, j − 1) is True  \n",
        "table(i, j) is False otherwise\n"
      ]
    },
    {
      "cell_type": "code",
      "metadata": {
        "id": "gFrRwp9J3Ipu",
        "colab_type": "code",
        "colab": {}
      },
      "source": [
        "Sample 1. Input: 4 3 3 3 3 Output: 0\n",
        "Sample 2. Input: 1 40 Output: 0\n",
        "Sample 3. Input: 11 17 59 34 57 17 23 67 1 18 2 59 Output: 1 34 + 67 + 17 = 23 + 59 + 1 + 17 + 18 = 59 + 2 + 57.\n",
        "Sample 4. Input: 13 1 2 3 4 5 5 7 7 8 10 12 19 25 Output: 1 1 + 3 + 7 + 25 = 2 + 4 + 5 + 7 + 8 + 10 = 5 + 12 + 19.\n"
      ],
      "execution_count": 0,
      "outputs": []
    },
    {
      "cell_type": "code",
      "metadata": {
        "id": "ahkF3V1R3Ipx",
        "colab_type": "code",
        "colab": {}
      },
      "source": [
        "# Uses python3\n",
        "import sys\n",
        "import itertools\n",
        "\n",
        "def partition3(A):\n",
        "    for c in itertools.product(range(3), repeat=len(A)):\n",
        "        sums = [None] * 3\n",
        "        for i in range(3):\n",
        "            sums[i] = sum(A[k] for k in range(len(A)) if c[k] == i)\n",
        "\n",
        "        if sums[0] == sums[1] and sums[1] == sums[2]:\n",
        "            return 1\n",
        "\n",
        "    return 0\n",
        "\n",
        "if __name__ == '__main__':\n",
        "    input = sys.stdin.read()\n",
        "    n, *A = list(map(int, input.split()))\n",
        "    print(partition3(A))\n",
        "\n"
      ],
      "execution_count": 0,
      "outputs": []
    },
    {
      "cell_type": "code",
      "metadata": {
        "id": "xgtH2OlG3Ip0",
        "colab_type": "code",
        "colab": {},
        "outputId": "fd715727-6bab-4dd6-9413-e30fe4f5279f"
      },
      "source": [
        "def solution(arr):\n",
        "    import numpy as np\n",
        "    total = sum(arr)\n",
        "    if len(arr) < 3 or total % 3:\n",
        "        return 0\n",
        "    per_person = total // 3\n",
        "#     dp = [[0] * (len(arr) + 1) for _ in range(per_person + 1)] #create a matrix for dp solution\n",
        "    dp = np.zeros((per_person+1,len(arr)+1))\n",
        "\n",
        "    for i in range(1, per_person+1): # variable for sum\n",
        "        for j in range(1, len(arr)+1): #variable for values given as input\n",
        "            ii = i - arr[j - 1]     # as i is iterative variable from per_person, it will sometime be equal to or bigger than arr[j-1], else it will not be possible to partition\n",
        "            if arr[j - 1] == i or (ii > 0 and dp[ii][j - 1]): # arr[j-1] is contributing to the sum\n",
        "                # dp[ii][j-1] is already calculated, if dp[i-arr[j-1]][j-1] is something worthy to contribute to sum but not 0\n",
        "                dp[i][j] = 1 if dp[i][j - 1] == 0 else 2 # if dp[i][j-1]==0, it means nothing till j-1 items were included in it.\n",
        "                # 1 and 2 for saying 1 or 2 subsets have been found with subset sum equal to per_person, finding 2 basically means finding 3\n",
        "            else: #if arr[i][j-1] doesn't contirbute just take prev value\n",
        "                dp[i][j] = dp[i][j - 1]\n",
        "\n",
        "#     print(dp)\n",
        "    return 1 if dp[-1][-1] == 2 else 0\n",
        "\n",
        "for i in range(4):\n",
        "    if __name__ == '__main__':\n",
        "    #     input()\n",
        "        n, *A = list(map(int, input().split()))\n",
        "    #     items = [x for x in map(int, input().split())]\n",
        "#         print(A)\n",
        "        print(solution(A))"
      ],
      "execution_count": 0,
      "outputs": [
        {
          "output_type": "stream",
          "text": [
            "4 3 3 3 3\n",
            "0\n",
            "1 40\n",
            "0\n",
            "11 17 59 34 57 17 23 67 1 18 2 59 \n",
            "1\n",
            "13 1 2 3 4 5 5 7 7 8 10 12 19 25 \n",
            "1\n"
          ],
          "name": "stdout"
        }
      ]
    },
    {
      "cell_type": "code",
      "metadata": {
        "id": "wflEGKq_3Ip4",
        "colab_type": "code",
        "colab": {}
      },
      "source": [
        ""
      ],
      "execution_count": 0,
      "outputs": []
    }
  ]
}