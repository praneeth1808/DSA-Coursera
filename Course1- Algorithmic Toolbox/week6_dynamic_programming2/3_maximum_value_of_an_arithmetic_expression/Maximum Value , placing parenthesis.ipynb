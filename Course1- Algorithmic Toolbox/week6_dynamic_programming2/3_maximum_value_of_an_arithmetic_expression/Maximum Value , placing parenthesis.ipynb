{
 "cells": [
  {
   "cell_type": "markdown",
   "metadata": {},
   "source": [
    "add parentheses to a given arithmetic expression to maximize its value"
   ]
  },
  {
   "cell_type": "markdown",
   "metadata": {},
   "source": [
    " Find the maximum value of an arithmetic expression by specifying the order of applying its arithmetic operations using additional parentheses. "
   ]
  },
  {
   "cell_type": "code",
   "execution_count": null,
   "metadata": {},
   "outputs": [],
   "source": [
    "# Uses python3\n",
    "def evalt(a, b, op):\n",
    "    if op == '+':\n",
    "        return a + b\n",
    "    elif op == '-':\n",
    "        return a - b\n",
    "    elif op == '*':\n",
    "        return a * b\n",
    "    else:\n",
    "        assert False\n",
    "\n",
    "def get_maximum_value(dataset):\n",
    "    #write your code here\n",
    "    return 0\n",
    "\n",
    "\n",
    "if __name__ == \"__main__\":\n",
    "    print(get_maximum_value(input()))\n"
   ]
  },
  {
   "cell_type": "code",
   "execution_count": 3,
   "metadata": {
    "scrolled": false
   },
   "outputs": [
    {
     "data": {
      "text/plain": [
       "[2, 4]"
      ]
     },
     "execution_count": 3,
     "metadata": {},
     "output_type": "execute_result"
    }
   ],
   "source": [
    "[1,2,3,4,5][1::2]"
   ]
  },
  {
   "cell_type": "code",
   "execution_count": 7,
   "metadata": {},
   "outputs": [
    {
     "name": "stdout",
     "output_type": "stream",
     "text": [
      "1+5 \n",
      "6\n",
      "5-8+7*4-8+9 \n",
      "200\n"
     ]
    }
   ],
   "source": [
    "def evalt(a, b, op):\n",
    "    if op == '+':\n",
    "        return a + b\n",
    "    elif op == '-':\n",
    "        return a - b\n",
    "    elif op == '*':\n",
    "        return a * b\n",
    "    else:\n",
    "        assert False\n",
    "\n",
    "def min_max(Mx, mn, i, j, operations):\n",
    "    import math\n",
    "    min_value = math.inf\n",
    "    max_value = -math.inf\n",
    "    for k in range(i, j):\n",
    "        a = evalt(Mx[i][k], Mx[k+1][j], operations[k]) \n",
    "        b = evalt(Mx[i][k], mn[k+1][j], operations[k])\n",
    "        c = evalt(mn[i][k], Mx[k+1][j], operations[k])\n",
    "        d = evalt(mn[i][k], mn[k+1][j], operations[k])\n",
    "        min_value = min(min_value, a, b, c, d)\n",
    "        max_value = max(max_value, a, b, c, d)\n",
    "    return min_value, max_value\n",
    "\n",
    "\n",
    "def get_maximum_value(dataset):\n",
    "    numbers, operations = list(map(int,dataset[::2])),dataset[1::2] # get numbers and operations from provided string input\n",
    "    n = len(numbers)\n",
    "    # two matrices store minimum and maximum numbers\n",
    "    mn = [[None for x in range(n)] for x in range(n)]\n",
    "    Mx = [[None for x in range(n)] for x in range(n)]\n",
    "\n",
    "    for i in range(n):\n",
    "        mn[i][i] = numbers[i]\n",
    "        Mx[i][i] = numbers[i]\n",
    "\n",
    "    #calculate only half part of the matrix, the upper part\n",
    "    for s in range(1, n):\n",
    "        for i in range(n-s):\n",
    "            j = i + s\n",
    "            mn[i][j], Mx[i][j] = min_max(Mx, mn, i, j, operations) #find min and max from min_max function\n",
    "\n",
    "    return Mx[0][n-1]\n",
    "\n",
    "for i in range(2):\n",
    "    if __name__ == \"__main__\":\n",
    "        print(get_maximum_value(input()))\n"
   ]
  },
  {
   "cell_type": "code",
   "execution_count": null,
   "metadata": {},
   "outputs": [],
   "source": []
  }
 ],
 "metadata": {
  "kernelspec": {
   "display_name": "Python 3",
   "language": "python",
   "name": "python3"
  },
  "language_info": {
   "codemirror_mode": {
    "name": "ipython",
    "version": 3
   },
   "file_extension": ".py",
   "mimetype": "text/x-python",
   "name": "python",
   "nbconvert_exporter": "python",
   "pygments_lexer": "ipython3",
   "version": "3.6.5"
  }
 },
 "nbformat": 4,
 "nbformat_minor": 2
}
